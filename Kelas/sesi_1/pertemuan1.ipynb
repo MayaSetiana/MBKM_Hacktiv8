{
 "cells": [
  {
   "cell_type": "code",
   "execution_count": 3,
   "id": "115149ab-ba0e-411e-9afb-b9a4276fc358",
   "metadata": {},
   "outputs": [
    {
     "name": "stdout",
     "output_type": "stream",
     "text": [
      "<class 'str'>\n"
     ]
    }
   ],
   "source": [
    "print(type('A'))"
   ]
  },
  {
   "cell_type": "code",
   "execution_count": 5,
   "id": "972db344-39d6-44c5-9136-26359abbdf12",
   "metadata": {},
   "outputs": [
    {
     "name": "stdout",
     "output_type": "stream",
     "text": [
      "Suhu adalah  86.0 Fahrenheit\n"
     ]
    }
   ],
   "source": [
    "#fahrenheit --> ((9/5) * celcius) + 32\n",
    "fahrenheit = ((9/5) * 30) + 32\n",
    "print (\"Suhu adalah \", fahrenheit, \"Fahrenheit\")"
   ]
  },
  {
   "cell_type": "code",
   "execution_count": 8,
   "id": "a85d523e-15dc-48b0-8e6b-0ae898b77136",
   "metadata": {},
   "outputs": [
    {
     "name": "stdout",
     "output_type": "stream",
     "text": [
      "uu aa\n"
     ]
    }
   ],
   "source": [
    "a = 'uu'\n",
    "b = 'aa'\n",
    "print(a+ ' ' + b)"
   ]
  },
  {
   "cell_type": "code",
   "execution_count": 24,
   "id": "7ae57d60-6b92-425c-8f9f-26d93b1b04da",
   "metadata": {},
   "outputs": [
    {
     "name": "stdout",
     "output_type": "stream",
     "text": [
      "['bar', 'corge']\n"
     ]
    }
   ],
   "source": [
    "a = ['foo', 'bar', 'baz', 'qux', 'quux', 'corge']\n",
    "print(a[1:6:4])"
   ]
  },
  {
   "cell_type": "code",
   "execution_count": 27,
   "id": "32afd681-963c-4b96-b0f6-4ba394a15348",
   "metadata": {},
   "outputs": [
    {
     "name": "stdout",
     "output_type": "stream",
     "text": [
      "ud\n"
     ]
    }
   ],
   "source": [
    "b = 'budi'\n",
    "print(b[1:3])"
   ]
  },
  {
   "cell_type": "code",
   "execution_count": 53,
   "id": "e468b782-1c77-4cf0-8356-859c0ecfa0ab",
   "metadata": {},
   "outputs": [
    {
     "name": "stdout",
     "output_type": "stream",
     "text": [
      "i\n",
      "omi\n",
      "tmen\n",
      "kmte\n",
      "kmtn\n"
     ]
    }
   ],
   "source": [
    "a = 'komitmen'\n",
    "print(a[3])\n",
    "print(a[1:4])\n",
    "print(a[4:])\n",
    "print(a[0::2])\n",
    "print(a[0]+a[2]+a[4]+a[7])"
   ]
  },
  {
   "cell_type": "code",
   "execution_count": 54,
   "id": "ea23442b-c4ee-4d90-b21b-8a1b0cc4c02a",
   "metadata": {},
   "outputs": [
    {
     "data": {
      "text/plain": [
       "['a', 'b', 'c']"
      ]
     },
     "execution_count": 54,
     "metadata": {},
     "output_type": "execute_result"
    }
   ],
   "source": [
    "a = ['a', 'b', 'c']\n",
    "a"
   ]
  },
  {
   "cell_type": "code",
   "execution_count": 56,
   "id": "7ddfc0f4-3955-422d-8633-0a10354794f4",
   "metadata": {},
   "outputs": [
    {
     "data": {
      "text/plain": [
       "['a', 'b', 'c', 'd', 'd']"
      ]
     },
     "execution_count": 56,
     "metadata": {},
     "output_type": "execute_result"
    }
   ],
   "source": [
    "a.append('d')\n",
    "a"
   ]
  },
  {
   "cell_type": "code",
   "execution_count": null,
   "id": "b679c42b-1846-49e1-94fe-5c5fe5982c85",
   "metadata": {},
   "outputs": [],
   "source": []
  }
 ],
 "metadata": {
  "kernelspec": {
   "display_name": "Python 3 (ipykernel)",
   "language": "python",
   "name": "python3"
  },
  "language_info": {
   "codemirror_mode": {
    "name": "ipython",
    "version": 3
   },
   "file_extension": ".py",
   "mimetype": "text/x-python",
   "name": "python",
   "nbconvert_exporter": "python",
   "pygments_lexer": "ipython3",
   "version": "3.9.13"
  }
 },
 "nbformat": 4,
 "nbformat_minor": 5
}
