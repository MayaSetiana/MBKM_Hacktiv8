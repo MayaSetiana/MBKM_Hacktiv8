{
 "cells": [
  {
   "cell_type": "code",
   "execution_count": 7,
   "id": "22f77150",
   "metadata": {},
   "outputs": [
    {
     "name": "stdout",
     "output_type": "stream",
     "text": [
      "yes\n"
     ]
    }
   ],
   "source": [
    "if 'ult' in 'grault':                # Truthy\n",
    "    print('yes')"
   ]
  },
  {
   "cell_type": "code",
   "execution_count": 13,
   "id": "8e97bb17",
   "metadata": {},
   "outputs": [],
   "source": [
    "if 'ba' in ['foo', 'bar', 'baz']:  # Falsy\n",
    "    print('yes')"
   ]
  },
  {
   "cell_type": "code",
   "execution_count": 10,
   "id": "c61c1231",
   "metadata": {},
   "outputs": [
    {
     "name": "stdout",
     "output_type": "stream",
     "text": [
      "True\n"
     ]
    }
   ],
   "source": [
    "print('na' in ['ni', 'no', 'na'])"
   ]
  },
  {
   "cell_type": "code",
   "execution_count": 17,
   "id": "58ec1bbd",
   "metadata": {},
   "outputs": [
    {
     "name": "stdout",
     "output_type": "stream",
     "text": [
      "betul gays kalo gini indentasinya\n",
      "ini akhir program\n"
     ]
    }
   ],
   "source": [
    "a = 2\n",
    "b = 3\n",
    "\n",
    "if a<b:\n",
    "    if a<=b:\n",
    "        print('betul gays kalo gini indentasinya')\n",
    "print('ini akhir program')"
   ]
  },
  {
   "cell_type": "code",
   "execution_count": 20,
   "id": "cf3e9e77",
   "metadata": {},
   "outputs": [
    {
     "name": "stdout",
     "output_type": "stream",
     "text": [
      "Hello maya\n"
     ]
    }
   ],
   "source": [
    "name = 'maya'\n",
    "if name == 'Fred':\n",
    "    print('Hello Fred')\n",
    "elif name == 'Xander':\n",
    "    print('Hello Xander')\n",
    "elif name == 'maya':\n",
    "    print('Hello maya')\n",
    "elif name == 'Arnold':\n",
    "    print('Hello Arnold')\n",
    "else:\n",
    "    print(\"I don't know who you are!\")"
   ]
  },
  {
   "cell_type": "code",
   "execution_count": 24,
   "id": "8f4cb0d9",
   "metadata": {},
   "outputs": [
    {
     "name": "stdout",
     "output_type": "stream",
     "text": [
      "jeruk b aja\n"
     ]
    }
   ],
   "source": [
    "harga_jeruk = 30000\n",
    "standar_harga = 30000\n",
    "if harga_jeruk > standar_harga:\n",
    "    print('MAHAL broo')\n",
    "elif harga_jeruk < standar_harga:\n",
    "    print('jeruk murahan!')\n",
    "elif harga_jeruk == standar_harga:\n",
    "    print('jeruk b aja')"
   ]
  },
  {
   "cell_type": "code",
   "execution_count": 40,
   "id": "2b7329e0",
   "metadata": {},
   "outputs": [
    {
     "name": "stdout",
     "output_type": "stream",
     "text": [
      "Masukkan harga jeruk 30\n",
      "jeruk murahan!\n"
     ]
    }
   ],
   "source": [
    "harga_jeruk = int(input('Masukkan harga jeruk '))\n",
    "standar_harga = 30000\n",
    "if harga_jeruk > standar_harga:\n",
    "    print('MAHAL broo');\n",
    "elif harga_jeruk <= standar_harga:\n",
    "    print('jeruk murahan!')\n",
    "else :\n",
    "    print('jeruk b aja')"
   ]
  },
  {
   "cell_type": "code",
   "execution_count": 50,
   "id": "4aeaef08",
   "metadata": {},
   "outputs": [
    {
     "name": "stdout",
     "output_type": "stream",
     "text": [
      "Beli pisang : 30\n",
      "90000\n"
     ]
    }
   ],
   "source": [
    "pisang = int(input('Beli pisang : '))\n",
    "harga = 3000\n",
    "total_harga = pisang * harga\n",
    "if total_harga > 100000:\n",
    "    print(total_harga - (total_harga*0.1));\n",
    "elif  50000 > total_harga < 100000:\n",
    "    print(total_harga - (total_harga*0.05));\n",
    "else :\n",
    "    print(total_harga);"
   ]
  },
  {
   "cell_type": "code",
   "execution_count": 71,
   "id": "fa976cf5",
   "metadata": {},
   "outputs": [
    {
     "name": "stdout",
     "output_type": "stream",
     "text": [
      "Beli pisang : 30\n",
      "Harga setelah diskon : 85500.0\n"
     ]
    }
   ],
   "source": [
    "pisang = int(input('Beli pisang : '))\n",
    "harga = 3000\n",
    "total_harga = pisang * harga\n",
    "if total_harga > 100000:\n",
    "    print('Harga setelah diskon :', total_harga - (total_harga*0.1));\n",
    "elif  total_harga > 50000 and  total_harga < 100000:\n",
    "    print('Harga setelah diskon :', total_harga - (total_harga*0.05));\n",
    "else :\n",
    "    print('Harga setelah diskon :', total_harga);"
   ]
  },
  {
   "cell_type": "code",
   "execution_count": 73,
   "id": "b82b21c8",
   "metadata": {},
   "outputs": [
    {
     "name": "stdout",
     "output_type": "stream",
     "text": [
      "Beli pisang : 30\n",
      "Harga setelah diskon : 85500\n"
     ]
    }
   ],
   "source": [
    "# ATAU\n",
    "\n",
    "pisang = int(input('Beli pisang : '))\n",
    "harga = 3000\n",
    "total_harga = pisang * harga\n",
    "if total_harga > 100000:\n",
    "    print('Harga setelah diskon :' + int(total_harga - (total_harga*0.1)));\n",
    "elif  total_harga > 50000 and  total_harga < 100000:\n",
    "    print('Harga setelah diskon :', int(total_harga - (total_harga*0.05)));\n",
    "else :\n",
    "    print('Harga setelah diskon :' + int( total_harga));"
   ]
  },
  {
   "cell_type": "markdown",
   "id": "afc975ba",
   "metadata": {},
   "source": [
    "## One-line-is-statement"
   ]
  },
  {
   "cell_type": "code",
   "execution_count": 75,
   "id": "53dcbb77",
   "metadata": {},
   "outputs": [
    {
     "name": "stdout",
     "output_type": "stream",
     "text": [
      "Masukkan harga jeruk 30\n",
      "jeruk murahan!\n",
      "CARI DUIT\n"
     ]
    }
   ],
   "source": [
    "harga_jeruk = int(input('Masukkan harga jeruk '))\n",
    "standar_harga = 30000\n",
    "if harga_jeruk > standar_harga: print('MAHAL broo'); print('Makanya jadi orang KAYA')\n",
    "elif harga_jeruk <= standar_harga: print('jeruk murahan!'); print('CARI DUIT')\n",
    "else : print('jeruk b aja') ; print('pasaran emang')"
   ]
  },
  {
   "cell_type": "code",
   "execution_count": 79,
   "id": "b56c2546",
   "metadata": {},
   "outputs": [
    {
     "data": {
      "text/plain": [
       "'TUA'"
      ]
     },
     "execution_count": 79,
     "metadata": {},
     "output_type": "execute_result"
    }
   ],
   "source": [
    "umur = 36\n",
    "s = 'TUA' if umur > 35 else 'Brondong euy'\n",
    "s"
   ]
  },
  {
   "cell_type": "code",
   "execution_count": 81,
   "id": "1248cc74",
   "metadata": {},
   "outputs": [
    {
     "data": {
      "text/plain": [
       "'In Class'"
      ]
     },
     "execution_count": 81,
     "metadata": {},
     "output_type": "execute_result"
    }
   ],
   "source": [
    "nama = 'Nasra'\n",
    "n = 'In Class' if nama in ['Sabreen', 'Nasra', 'Saba'] else 'Out Class'\n",
    "n"
   ]
  },
  {
   "cell_type": "code",
   "execution_count": 83,
   "id": "1c086e4e",
   "metadata": {},
   "outputs": [
    {
     "name": "stdout",
     "output_type": "stream",
     "text": [
      "Gaji : 10000000\n",
      "Year of service : 15\n",
      "Gaji anda adalah  11000000.0\n"
     ]
    }
   ],
   "source": [
    "gaji = int(input('Gaji : '))\n",
    "thn = int(input('Year of service : '))\n",
    "if thn > 10:\n",
    "    print(\"Gaji Anda adalah \", gaji + (gaji*0.1))\n",
    "else :\n",
    "    print('Gaji Anda adalah ', gaji)"
   ]
  },
  {
   "cell_type": "markdown",
   "id": "dc6d4c1f",
   "metadata": {},
   "source": [
    "## LOOP"
   ]
  },
  {
   "cell_type": "markdown",
   "id": "1187909a",
   "metadata": {},
   "source": [
    "### While Loop"
   ]
  },
  {
   "cell_type": "code",
   "execution_count": 90,
   "id": "7ea70047",
   "metadata": {
    "scrolled": true
   },
   "outputs": [
    {
     "name": "stdout",
     "output_type": "stream",
     "text": [
      "9\n",
      "8\n",
      "7\n",
      "6\n",
      "5\n",
      "4\n",
      "3\n",
      "2\n",
      "1\n",
      "0\n"
     ]
    }
   ],
   "source": [
    "apel = 10\n",
    "while apel > 0:\n",
    "    apel = apel-1\n",
    "    print(apel)"
   ]
  },
  {
   "cell_type": "code",
   "execution_count": 94,
   "id": "e91edc12",
   "metadata": {},
   "outputs": [
    {
     "name": "stdout",
     "output_type": "stream",
     "text": [
      "9\n",
      "8\n",
      "7\n",
      "6\n",
      "5\n",
      "4\n",
      "3\n",
      "2\n",
      "Yakin gamau? sisa 1 nih\n",
      "0\n"
     ]
    }
   ],
   "source": [
    "apel = 10\n",
    "while apel > 0:\n",
    "    apel = apel-1\n",
    "    if apel == 1:\n",
    "        print('Yakin gamau? sisa 1 nih')\n",
    "    else:\n",
    "        print(apel)"
   ]
  },
  {
   "cell_type": "code",
   "execution_count": 97,
   "id": "ef37beba",
   "metadata": {},
   "outputs": [
    {
     "name": "stdout",
     "output_type": "stream",
     "text": [
      "Jumlah apel  9\n",
      "Jumlah apel  8\n",
      "Jumlah apel  7\n",
      "Jumlah apel  6\n",
      "Jumlah apel  5\n",
      "Jumlah apel  4\n",
      "Jumlah apel  3\n",
      "Yakin gamau? sisa 2 nih\n",
      "sudah selesai\n"
     ]
    }
   ],
   "source": [
    "# break untuk memberhentikan loop\n",
    "\n",
    "apel = 10\n",
    "while apel > 0:\n",
    "    apel = apel-1\n",
    "    if apel == 2:\n",
    "        print('Yakin gamau? sisa 2 nih')\n",
    "        break\n",
    "    print('Jumlah apel ', apel)\n",
    "print('sudah selesai')"
   ]
  },
  {
   "cell_type": "code",
   "execution_count": 98,
   "id": "27e472fe",
   "metadata": {},
   "outputs": [
    {
     "name": "stdout",
     "output_type": "stream",
     "text": [
      "Jumlah apel  9\n",
      "Jumlah apel  8\n",
      "Jumlah apel  7\n",
      "Jumlah apel  6\n",
      "Jumlah apel  5\n",
      "Jumlah apel  4\n",
      "Jumlah apel  3\n",
      "Yakin gamau? sisa 2 nih\n",
      "Jumlah apel  1\n",
      "Jumlah apel  0\n",
      "sudah selesai\n"
     ]
    }
   ],
   "source": [
    "# continue untuk melewati dan lanjut ke variabel berikutnya\n",
    "\n",
    "apel = 10\n",
    "while apel > 0:\n",
    "    apel = apel-1\n",
    "    if apel == 2:\n",
    "        print('Yakin gamau? sisa 2 nih')\n",
    "        continue\n",
    "    print('Jumlah apel ', apel)\n",
    "print('sudah selesai')\n",
    "\n"
   ]
  },
  {
   "cell_type": "code",
   "execution_count": 105,
   "id": "58481005",
   "metadata": {},
   "outputs": [
    {
     "name": "stdout",
     "output_type": "stream",
     "text": [
      "9\n",
      "8\n",
      "7\n",
      "6\n",
      "5\n",
      "4\n",
      "3\n",
      "2\n"
     ]
    }
   ],
   "source": [
    "# break untuk memberhentikan loop\n",
    "\n",
    "apel = 10\n",
    "while apel > 0:\n",
    "    apel = apel-1\n",
    "    print(apel)\n",
    "    if apel == 2:\n",
    "        break\n",
    "else:\n",
    "        print('selesai')"
   ]
  },
  {
   "cell_type": "code",
   "execution_count": null,
   "id": "1988db12",
   "metadata": {},
   "outputs": [],
   "source": [
    "# else\n",
    "\n",
    "apel = 10\n",
    "while apel > 0:\n",
    "    apel -= 2\n",
    "    print(apel)\n",
    "else:\n",
    "    print('sudah selesai')"
   ]
  },
  {
   "cell_type": "markdown",
   "id": "753be445",
   "metadata": {},
   "source": [
    "### For Loop"
   ]
  },
  {
   "cell_type": "code",
   "execution_count": 87,
   "id": "7b63f42e",
   "metadata": {},
   "outputs": [
    {
     "name": "stdout",
     "output_type": "stream",
     "text": [
      "n\n",
      "a\n",
      "s\n",
      "r\n",
      "a\n"
     ]
    }
   ],
   "source": [
    "for i in 'nasra':\n",
    "    print(i)"
   ]
  },
  {
   "cell_type": "code",
   "execution_count": 92,
   "id": "b1e3bc9f",
   "metadata": {},
   "outputs": [
    {
     "name": "stdout",
     "output_type": "stream",
     "text": [
      "foo\n",
      "bar\n",
      "baz\n"
     ]
    }
   ],
   "source": [
    "d = {'foo': 1, 'bar': 2, 'baz': 3}\n",
    "for k in d:\n",
    "    print(k)"
   ]
  },
  {
   "cell_type": "code",
   "execution_count": null,
   "id": "c114bad3",
   "metadata": {},
   "outputs": [],
   "source": []
  },
  {
   "cell_type": "markdown",
   "id": "cf56a9c2",
   "metadata": {},
   "source": [
    "## Nested If - Else & Loop"
   ]
  },
  {
   "cell_type": "code",
   "execution_count": 110,
   "id": "a23bb97d",
   "metadata": {},
   "outputs": [
    {
     "name": "stdout",
     "output_type": "stream",
     "text": [
      "Mom\n"
     ]
    }
   ],
   "source": [
    "umur = 50\n",
    "gender = 'F'\n",
    "if umur < 18:\n",
    "    if gender == 'M':\n",
    "        print('Son')\n",
    "    else:\n",
    "        print('Daughter')\n",
    "elif umur >= 18 and umur < 65:\n",
    "    if gender == 'M':\n",
    "        print('Dad')\n",
    "    else:\n",
    "        if gender == 'F':\n",
    "            print('Mom')"
   ]
  },
  {
   "cell_type": "code",
   "execution_count": 115,
   "id": "02689920",
   "metadata": {},
   "outputs": [
    {
     "name": "stdout",
     "output_type": "stream",
     "text": [
      "1\n",
      "2\n",
      "3\n",
      "4\n",
      "5\n",
      "6\n"
     ]
    }
   ],
   "source": [
    "# Nested for loop\n",
    "\n",
    "a = [1,2,3,4,5,6]\n",
    "\n",
    "for i in a: print(i)"
   ]
  },
  {
   "cell_type": "code",
   "execution_count": 120,
   "id": "947dea36",
   "metadata": {},
   "outputs": [
    {
     "name": "stdout",
     "output_type": "stream",
     "text": [
      "n\n",
      "a\n",
      "s\n"
     ]
    }
   ],
   "source": [
    "b = ['nas', 'sab', 'breen']\n",
    "\n",
    "for i in b:\n",
    "    if i == 'sab':\n",
    "        break\n",
    "    for x in i:\n",
    "        print(x)"
   ]
  },
  {
   "cell_type": "code",
   "execution_count": 112,
   "id": "0f293c78",
   "metadata": {},
   "outputs": [
    {
     "name": "stdout",
     "output_type": "stream",
     "text": [
      "4\n",
      "3\n",
      "2\n",
      "1\n",
      "0\n"
     ]
    }
   ],
   "source": [
    "n = 5\n",
    "while n>0: n -=1; print(n)"
   ]
  },
  {
   "cell_type": "code",
   "execution_count": 141,
   "id": "e27d0da2",
   "metadata": {
    "scrolled": true
   },
   "outputs": [
    {
     "name": "stdout",
     "output_type": "stream",
     "text": [
      "Bekasi\n",
      "Jakarta\n",
      "Medan\n"
     ]
    }
   ],
   "source": [
    "dict_a = {'A': 'Bekasi', 'B':'Jakarta', 'C':'Medan'}\n",
    "for i in dict_a:\n",
    "    print(dict_a[i])"
   ]
  },
  {
   "cell_type": "code",
   "execution_count": 137,
   "id": "aa6ea082",
   "metadata": {},
   "outputs": [
    {
     "data": {
      "text/plain": [
       "'Bekasi'"
      ]
     },
     "execution_count": 137,
     "metadata": {},
     "output_type": "execute_result"
    }
   ],
   "source": [
    "dict_a['A']"
   ]
  },
  {
   "cell_type": "code",
   "execution_count": 146,
   "id": "a58674a3",
   "metadata": {},
   "outputs": [
    {
     "name": "stdout",
     "output_type": "stream",
     "text": [
      "Bekasi\n"
     ]
    }
   ],
   "source": [
    "dict_a = {'A': 'Bekasi', 'B':'Jakarta', 'C':'Medan'}\n",
    "for i in dict_a:\n",
    "    if dict_a[i] == 'Jakarta':\n",
    "        print(dict_a['A'])"
   ]
  },
  {
   "cell_type": "code",
   "execution_count": 158,
   "id": "57a93fba",
   "metadata": {},
   "outputs": [
    {
     "data": {
      "text/plain": [
       "dict_values(['Bekasi', 'Jakarta', 'Medan'])"
      ]
     },
     "execution_count": 158,
     "metadata": {},
     "output_type": "execute_result"
    }
   ],
   "source": [
    "dict_a.values()"
   ]
  },
  {
   "cell_type": "code",
   "execution_count": 166,
   "id": "670d2503",
   "metadata": {},
   "outputs": [
    {
     "data": {
      "text/plain": [
       "dict_items([('A', 'Bekasi'), ('B', 'Jakarta'), ('C', 'Medan')])"
      ]
     },
     "execution_count": 166,
     "metadata": {},
     "output_type": "execute_result"
    }
   ],
   "source": [
    "dict_a.items()"
   ]
  },
  {
   "cell_type": "code",
   "execution_count": 160,
   "id": "81ee9a53",
   "metadata": {},
   "outputs": [
    {
     "name": "stdout",
     "output_type": "stream",
     "text": [
      "Bekasi\n",
      "Jakarta\n",
      "Medan\n"
     ]
    }
   ],
   "source": [
    "dict_a = {'A': 'Bekasi', 'B':'Jakarta', 'C':'Medan'}\n",
    "for i in dict_a.values():\n",
    "    print(i)"
   ]
  },
  {
   "cell_type": "code",
   "execution_count": 154,
   "id": "17c61d2b",
   "metadata": {},
   "outputs": [
    {
     "name": "stdout",
     "output_type": "stream",
     "text": [
      "nas\n",
      "breen\n"
     ]
    }
   ],
   "source": [
    "for i in ['nas', 'sab', 'breen']:\n",
    "    if 'ab' in i:\n",
    "        continue\n",
    "        print('wiwiwi')\n",
    "    print(i)\n",
    "    \n",
    "#   yang ada 'br' akan dilewati dan lanjut ke variabel berikutnya"
   ]
  },
  {
   "cell_type": "code",
   "execution_count": 155,
   "id": "5beb61fd",
   "metadata": {},
   "outputs": [
    {
     "name": "stdout",
     "output_type": "stream",
     "text": [
      "nas\n",
      "wiwiwi\n",
      "sab\n",
      "breen\n"
     ]
    }
   ],
   "source": [
    "for i in ['nas', 'sab', 'breen']:\n",
    "    if 'ab' in i:\n",
    "        pass\n",
    "        print('wiwiwi')\n",
    "    print(i)"
   ]
  },
  {
   "cell_type": "code",
   "execution_count": 156,
   "id": "08f74a46",
   "metadata": {},
   "outputs": [
    {
     "name": "stdout",
     "output_type": "stream",
     "text": [
      "nas\n"
     ]
    }
   ],
   "source": [
    "for i in ['nas', 'sab', 'breen']:\n",
    "    if 'ab' in i:\n",
    "        break\n",
    "        print('wiwiwi')\n",
    "    print(i)\n",
    "    \n",
    "#   yang ada 'br' akan dilewati dan lanjut ke variabel berikutnya"
   ]
  },
  {
   "cell_type": "markdown",
   "id": "0861456b",
   "metadata": {},
   "source": [
    "- LOOP keseluruhan iterasi objek, fungsi loop di atas memiliki 4 iterasi\n",
    "- Iterasi adalah istilah untuk 1 putaran loop\n",
    "- continue akan memberhentikan iterasi dan lanjut ke iterasi berikutnya\n",
    "- loop akan memberhentikan loop secara keseluruhan(langsung selesai)\n",
    "- pass untuk if : menolak keseluruhan kondisi if\n",
    "- continue untuk for : ngeskip iterasinya"
   ]
  },
  {
   "cell_type": "markdown",
   "id": "a03972af",
   "metadata": {},
   "source": [
    "## Range"
   ]
  },
  {
   "cell_type": "code",
   "execution_count": 162,
   "id": "6d0b5b01",
   "metadata": {},
   "outputs": [
    {
     "name": "stdout",
     "output_type": "stream",
     "text": [
      "range(1, 6)\n"
     ]
    }
   ],
   "source": [
    "print(range(1,6))"
   ]
  },
  {
   "cell_type": "code",
   "execution_count": 163,
   "id": "4c538adc",
   "metadata": {},
   "outputs": [
    {
     "data": {
      "text/plain": [
       "[2, 3, 4, 5, 6]"
      ]
     },
     "execution_count": 163,
     "metadata": {},
     "output_type": "execute_result"
    }
   ],
   "source": [
    "a = [1,2,3,4,5,6]\n",
    "a[1:6]"
   ]
  },
  {
   "cell_type": "code",
   "execution_count": 164,
   "id": "9da5d7b9",
   "metadata": {},
   "outputs": [
    {
     "name": "stdout",
     "output_type": "stream",
     "text": [
      "1\n",
      "2\n",
      "3\n",
      "4\n",
      "5\n",
      "6\n"
     ]
    }
   ],
   "source": [
    "for i in range(6):\n",
    "    print(i+1)"
   ]
  },
  {
   "cell_type": "code",
   "execution_count": null,
   "id": "19b4c30b",
   "metadata": {},
   "outputs": [],
   "source": [
    "a = [1,2,3]\n",
    "b = [4,5,6]\n",
    "for i,j in zip(a, b):\n",
    "    print(i,j)\n",
    "    \n",
    "# zip() menyatukan dua iterasi menjadi 1"
   ]
  },
  {
   "cell_type": "code",
   "execution_count": null,
   "id": "37fd17a1",
   "metadata": {},
   "outputs": [],
   "source": [
    "angka = 1\n",
    "while i<21 :\n",
    "    if i%2 == 0:\n",
    "        print('genap')\n",
    "    else:\n",
    "        print(i)\n",
    "    i +=1"
   ]
  },
  {
   "cell_type": "code",
   "execution_count": 2,
   "id": "2e48b825",
   "metadata": {},
   "outputs": [
    {
     "name": "stdout",
     "output_type": "stream",
     "text": [
      "1\n",
      "GENAP\n",
      "3\n",
      "GENAP\n",
      "5\n",
      "GENAP\n",
      "7\n",
      "GENAP\n",
      "9\n",
      "GENAP\n",
      "11\n",
      "GENAP\n",
      "13\n",
      "GENAP\n",
      "15\n",
      "GENAP\n",
      "17\n",
      "GENAP\n",
      "19\n",
      "GENAP\n"
     ]
    }
   ],
   "source": [
    "angka = 0\n",
    "while angka <  20:\n",
    "    angka += 1\n",
    "    if angka % 2 == 0:\n",
    "        print('GENAP')\n",
    "    else:\n",
    "        print(int(angka))"
   ]
  },
  {
   "cell_type": "code",
   "execution_count": 15,
   "id": "5cf2dc2e",
   "metadata": {},
   "outputs": [
    {
     "name": "stdout",
     "output_type": "stream",
     "text": [
      "Masukkan jumlah sisi : 6\n",
      "*\n",
      "**\n",
      "***\n",
      "****\n",
      "*****\n",
      "******\n"
     ]
    }
   ],
   "source": [
    "sisi = int(input('Masukkan jumlah sisi : '))\n",
    "count = 1\n",
    "while True:\n",
    "    print(\"*\"*count)\n",
    "    count += 1\n",
    "    \n",
    "    if count > sisi :\n",
    "        break"
   ]
  },
  {
   "cell_type": "code",
   "execution_count": null,
   "id": "59864a32",
   "metadata": {},
   "outputs": [],
   "source": []
  }
 ],
 "metadata": {
  "kernelspec": {
   "display_name": "Python 3 (ipykernel)",
   "language": "python",
   "name": "python3"
  },
  "language_info": {
   "codemirror_mode": {
    "name": "ipython",
    "version": 3
   },
   "file_extension": ".py",
   "mimetype": "text/x-python",
   "name": "python",
   "nbconvert_exporter": "python",
   "pygments_lexer": "ipython3",
   "version": "3.9.13"
  },
  "toc": {
   "base_numbering": 1,
   "nav_menu": {},
   "number_sections": true,
   "sideBar": true,
   "skip_h1_title": false,
   "title_cell": "Table of Contents",
   "title_sidebar": "Contents",
   "toc_cell": false,
   "toc_position": {},
   "toc_section_display": true,
   "toc_window_display": false
  },
  "varInspector": {
   "cols": {
    "lenName": 16,
    "lenType": 16,
    "lenVar": 40
   },
   "kernels_config": {
    "python": {
     "delete_cmd_postfix": "",
     "delete_cmd_prefix": "del ",
     "library": "var_list.py",
     "varRefreshCmd": "print(var_dic_list())"
    },
    "r": {
     "delete_cmd_postfix": ") ",
     "delete_cmd_prefix": "rm(",
     "library": "var_list.r",
     "varRefreshCmd": "cat(var_dic_list()) "
    }
   },
   "types_to_exclude": [
    "module",
    "function",
    "builtin_function_or_method",
    "instance",
    "_Feature"
   ],
   "window_display": false
  }
 },
 "nbformat": 4,
 "nbformat_minor": 5
}
