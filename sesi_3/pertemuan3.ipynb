{
 "cells": [
  {
   "cell_type": "code",
   "execution_count": 3,
   "id": "e8bcfe26",
   "metadata": {},
   "outputs": [
    {
     "name": "stdout",
     "output_type": "stream",
     "text": [
      "Fungsi menghitung Luas\n",
      "Nilai luas adalah 25\n"
     ]
    }
   ],
   "source": [
    "def my_function(p, l):\n",
    "    print(f'Fungsi menghitung Luas')\n",
    "    luas = p * l\n",
    "    print(f'Nilai luas adalah {luas}')\n",
    "    \n",
    "my_function(5,5)"
   ]
  },
  {
   "cell_type": "code",
   "execution_count": 4,
   "id": "734ab336",
   "metadata": {},
   "outputs": [
    {
     "data": {
      "text/plain": [
       "'Maya'"
      ]
     },
     "execution_count": 4,
     "metadata": {},
     "output_type": "execute_result"
    }
   ],
   "source": [
    "def printme(a):\n",
    "    return a\n",
    "\n",
    "printme('Maya')"
   ]
  },
  {
   "cell_type": "code",
   "execution_count": 17,
   "id": "d52582f4",
   "metadata": {},
   "outputs": [
    {
     "name": "stdout",
     "output_type": "stream",
     "text": [
      "Values inside the function: [11, 12, 13, 14, [1, 2, 3, 4]]\n",
      "Values outside the function: [11, 12, 13, 14, [1, 2, 3, 4]]\n"
     ]
    }
   ],
   "source": [
    "def changme(mylist):\n",
    "    mylist.append([1,2,3,4]);\n",
    "    print(f'Values inside the function: {mylist}')\n",
    "    \n",
    "x = [11,12,13,14]\n",
    "changme(x)\n",
    "print(f'Values outside the function: {x}')"
   ]
  },
  {
   "cell_type": "code",
   "execution_count": 9,
   "id": "41c5634d",
   "metadata": {},
   "outputs": [
    {
     "data": {
      "text/plain": [
       "[1, 2, 3, [5, 6]]"
      ]
     },
     "execution_count": 9,
     "metadata": {},
     "output_type": "execute_result"
    }
   ],
   "source": [
    "a = [1,2,3]\n",
    "a.append([5,6])\n",
    "a"
   ]
  },
  {
   "cell_type": "code",
   "execution_count": 14,
   "id": "5ad8ff14",
   "metadata": {},
   "outputs": [
    {
     "name": "stdout",
     "output_type": "stream",
     "text": [
      "Values inside the function:  [1, 2, 3, 4]\n",
      "Values outside the function:  [10, 20, 30]\n"
     ]
    }
   ],
   "source": [
    "def changeme( mylist ):\n",
    "   \"This changes a passed list into this function\"\n",
    "   mylist = [1,2,3,4]; # This would assig new reference in mylist\n",
    "   print(\"Values inside the function: \", mylist)\n",
    "   return\n",
    "\n",
    "mylist = [10,20,30];\n",
    "changeme( mylist );\n",
    "print(\"Values outside the function: \", mylist)"
   ]
  },
  {
   "cell_type": "code",
   "execution_count": 20,
   "id": "198cc7ef",
   "metadata": {},
   "outputs": [
    {
     "name": "stdout",
     "output_type": "stream",
     "text": [
      "myyyyy\n"
     ]
    }
   ],
   "source": [
    "\n",
    "def printme( str ):\n",
    "   \"This prints a passed string into this function\"\n",
    "   print(str)\n",
    "   return;\n",
    "\n",
    "printme(str = \"myyyyy\")"
   ]
  },
  {
   "cell_type": "code",
   "execution_count": 30,
   "id": "249fb624",
   "metadata": {},
   "outputs": [
    {
     "name": "stdout",
     "output_type": "stream",
     "text": [
      "Name:  Nas\n",
      "Full Name :  Nasra Sabreen\n",
      "Message:  Good Job!!!\n"
     ]
    }
   ],
   "source": [
    "def printinfo( name, msg, fname ):\n",
    "   \"This prints a passed info into this function\"\n",
    "   print(\"Name: \", name)\n",
    "   print(\"Full Name : \", fname)\n",
    "   print(\"Message: \", msg)\n",
    "   return;\n",
    "\n",
    "# Now you can call printinfo function\n",
    "printinfo( msg='Good Job!!!', name=\"Nas\", fname='Nasra Sabreen' )"
   ]
  },
  {
   "cell_type": "code",
   "execution_count": 44,
   "id": "3dbeec53",
   "metadata": {},
   "outputs": [
    {
     "name": "stdout",
     "output_type": "stream",
     "text": [
      "Nini punya tinggi 100cm dan berat 30kg\n",
      "Nini\n"
     ]
    }
   ],
   "source": [
    "def fungsi(*args):\n",
    "    nama = args[0]\n",
    "    tinggi = args[1]\n",
    "    berat = args[2]\n",
    "    print(f\"{nama} punya tinggi {tinggi}cm dan berat {berat}kg\")\n",
    "    print(args[0])\n",
    "\n",
    "fungsi(\"Nini\", 100, 30)"
   ]
  },
  {
   "cell_type": "code",
   "execution_count": 41,
   "id": "4b7fed67",
   "metadata": {},
   "outputs": [
    {
     "name": "stdout",
     "output_type": "stream",
     "text": [
      "Hasil perhitungan adalah 6\n"
     ]
    }
   ],
   "source": [
    "def tambah(*data_angka):\n",
    "    hasil = 0\n",
    "    for angka in data_angka:\n",
    "        hasil += angka\n",
    "    print(f\"Hasil perhitungan adalah {hasil}\")\n",
    "\n",
    "tambah(1,2,3)\n",
    "\n",
    "# args bisa diakses setiap indexnya"
   ]
  },
  {
   "cell_type": "code",
   "execution_count": 45,
   "id": "13ca5221",
   "metadata": {},
   "outputs": [
    {
     "name": "stdout",
     "output_type": "stream",
     "text": [
      "lulu punya tinggi 160cm dan berat 40kg\n",
      "lulu\n"
     ]
    }
   ],
   "source": [
    "def fungsi(**kwargs):\n",
    "    nama = kwargs['nama']\n",
    "    tinggi = kwargs['tinggi']\n",
    "    berat = kwargs['berat']\n",
    "    print(f\"{nama} punya tinggi {tinggi}cm dan berat {berat}kg\")\n",
    "    print(kwargs['nama'])\n",
    "\n",
    "\n",
    "fungsi(nama = \"lulu\", berat = 40, tinggi = 160)"
   ]
  },
  {
   "cell_type": "code",
   "execution_count": 58,
   "id": "1a72682a",
   "metadata": {},
   "outputs": [
    {
     "name": "stdout",
     "output_type": "stream",
     "text": [
      "Operasi Penjumlahan\n",
      "45\n",
      "Operasi Perkalian\n",
      "200\n"
     ]
    }
   ],
   "source": [
    "def math(*data, **kwargs):\n",
    "    hasil = 0\n",
    "    if kwargs['opsi'] ==  'penjumlahan':\n",
    "        print(f\"Operasi Penjumlahan\")\n",
    "        for angka in data:\n",
    "            hasil += angka\n",
    "\n",
    "    elif kwargs['opsi'] ==  'perkalian':\n",
    "        print (f\"Operasi Perkalian\")\n",
    "        hasil = 1\n",
    "        for angka in data:\n",
    "            hasil *= angka\n",
    "    else:\n",
    "        print(\"Tidak ada operasi\")\n",
    "    \n",
    "    return hasil\n",
    "\n",
    "hasil = math(10,15,20, opsi = 'penjumlahan')\n",
    "print(hasil)\n",
    "hasil = math(10,20, opsi = 'perkalian')\n",
    "print(hasil)"
   ]
  },
  {
   "cell_type": "code",
   "execution_count": 49,
   "id": "33becac3",
   "metadata": {},
   "outputs": [
    {
     "data": {
      "text/plain": [
       "30"
      ]
     },
     "execution_count": 49,
     "metadata": {},
     "output_type": "execute_result"
    }
   ],
   "source": [
    "jumlah = lambda arg1, arg2 : arg1 +arg2\n",
    "jumlah()"
   ]
  },
  {
   "cell_type": "code",
   "execution_count": 52,
   "id": "bd49b38b",
   "metadata": {},
   "outputs": [
    {
     "name": "stdout",
     "output_type": "stream",
     "text": [
      "Hasil pangkat adalah 25\n",
      "Hasil pangkat adalah 9\n",
      "Hasil pangkat adalah 1000000\n"
     ]
    }
   ],
   "source": [
    "def pangkat(n):\n",
    "    return lambda angka:angka**n\n",
    "\n",
    "# pangkat2 = pangkat(2)\n",
    "# print(f\"Hasil pangkat 2 adalah {pangkat2(5)}\")\n",
    "\n",
    "# PANGKAT BEBAS\n",
    "print(f\"Hasil pangkat adalah {pangkat(2)(5)}\") #(pangkat dulu), (baru angka)\n",
    "print(f\"Hasil pangkat adalah {pangkat(2)(3)}\")\n",
    "print(f\"Hasil pangkat adalah {pangkat(3)(100)}\")"
   ]
  },
  {
   "cell_type": "code",
   "execution_count": 55,
   "id": "c232d049",
   "metadata": {},
   "outputs": [
    {
     "name": "stdout",
     "output_type": "stream",
     "text": [
      "Outside the function :  30\n"
     ]
    }
   ],
   "source": [
    "# Function definition is here\n",
    "def sum( arg1, arg2 ):\n",
    "   # Add both the parameters and return them.\"\n",
    "   total = arg1 + arg2\n",
    "   print(\"Inside the function : \", total)\n",
    "   return total;\n",
    "\n",
    "# Now you can call sum function\n",
    "total = sum( 10, 20 );\n",
    "print(\"Outside the function : \", total)"
   ]
  },
  {
   "cell_type": "code",
   "execution_count": 69,
   "id": "b61b8101",
   "metadata": {},
   "outputs": [
    {
     "name": "stdout",
     "output_type": "stream",
     "text": [
      "6 24 50\n"
     ]
    }
   ],
   "source": [
    "def kali(a, b):\n",
    "    return a * b\n",
    "\n",
    "x = kali(2,3)\n",
    "y = kali(4,6)\n",
    "z = kali(5,10)\n",
    "\n",
    "print(x, y, z)"
   ]
  },
  {
   "cell_type": "code",
   "execution_count": 70,
   "id": "65ed9e34",
   "metadata": {},
   "outputs": [
    {
     "data": {
      "text/plain": [
       "'nasra'"
      ]
     },
     "execution_count": 70,
     "metadata": {},
     "output_type": "execute_result"
    }
   ],
   "source": [
    "def str_joiner(a, b):\n",
    "    return a + b\n",
    "\n",
    "str_joiner('nas', 'ra')"
   ]
  },
  {
   "cell_type": "code",
   "execution_count": 104,
   "id": "bfb997d0",
   "metadata": {},
   "outputs": [
    {
     "name": "stdout",
     "output_type": "stream",
     "text": [
      "nakam uam ayam\n"
     ]
    }
   ],
   "source": [
    "def convert(data1, data2, data3):\n",
    "    data_baru1 = data1.lower()\n",
    "    data_baru2 = data2.lower()\n",
    "    data_baru3 = data3.lower()\n",
    "    return data_baru3[::-1] +  ' ' + data_baru2[::-1] + ' ' + data_baru1[::-1] \n",
    "\n",
    "print(convert('Maya', 'Mau', 'Makan'))"
   ]
  },
  {
   "cell_type": "code",
   "execution_count": 97,
   "id": "b506b12a",
   "metadata": {},
   "outputs": [
    {
     "name": "stdout",
     "output_type": "stream",
     "text": [
      "nakam uam ayas\n"
     ]
    }
   ],
   "source": [
    "def convert(data1, data2, data3):\n",
    "    data_baru1 = data1.lower()\n",
    "    data_baru2 = data2.lower()\n",
    "    data_baru3 = data3.lower()\n",
    "    return ( data_baru1 +  ' ' + data_baru2 + ' ' + data_baru3) [::-1] \n",
    "\n",
    "print(convert('Saya', 'Mau', 'Makan'))"
   ]
  },
  {
   "cell_type": "code",
   "execution_count": 102,
   "id": "8dff1653",
   "metadata": {},
   "outputs": [
    {
     "data": {
      "text/plain": [
       "53"
      ]
     },
     "execution_count": 102,
     "metadata": {},
     "output_type": "execute_result"
    }
   ],
   "source": [
    "total = 20\n",
    " \n",
    "    \n",
    "def function_a(a, b):\n",
    "    total = a + b\n",
    "    return total\n",
    "\n",
    "function_a(50, 3)"
   ]
  },
  {
   "cell_type": "code",
   "execution_count": 103,
   "id": "99f98038",
   "metadata": {},
   "outputs": [
    {
     "name": "stdout",
     "output_type": "stream",
     "text": [
      "20\n"
     ]
    }
   ],
   "source": [
    "print(total)"
   ]
  },
  {
   "cell_type": "code",
   "execution_count": 133,
   "id": "a59d64c1",
   "metadata": {
    "scrolled": true
   },
   "outputs": [
    {
     "name": "stdout",
     "output_type": "stream",
     "text": [
      "n angka ganjil adalah 7 dan jumlahnya 267\n",
      "n angka genap adalah 6 dan jumlahnya 274\n",
      "None\n"
     ]
    }
   ],
   "source": [
    "def soal(mylist):\n",
    "    countGanjil = 0\n",
    "    countGenap = 0\n",
    "    sumGanjil = 0\n",
    "    sumGenap = 0\n",
    "    \n",
    "    for a in mylist:\n",
    "        if a%2 == 0:\n",
    "            countGenap += 1\n",
    "            sumGenap += a  \n",
    "        elif a%2 == 1:\n",
    "            countGanjil += 1\n",
    "            sumGanjil += a\n",
    "    print(f'n angka ganjil adalah {countGanjil} dan jumlahnya {sumGanjil}')\n",
    "    print(f'n angka genap adalah {countGenap} dan jumlahnya {sumGenap}')\n",
    "            \n",
    "\n",
    "\n",
    "mylist = [31,23,31,40,50,67,74,88,91,10,11,12,13]    \n",
    "\n",
    "print(soal(mylist))"
   ]
  },
  {
   "cell_type": "markdown",
   "id": "5d7acfc9",
   "metadata": {},
   "source": [
    "#### default argument"
   ]
  },
  {
   "cell_type": "code",
   "execution_count": 137,
   "id": "9b6882a4",
   "metadata": {},
   "outputs": [
    {
     "name": "stdout",
     "output_type": "stream",
     "text": [
      "Name:  nas\n",
      "Age:  12\n"
     ]
    }
   ],
   "source": [
    "def printinfo( name, age=26 ):\n",
    "   \"This prints a passed info into this function\"\n",
    "   print(\"Name: \", name)\n",
    "   print(\"Age: \", age)\n",
    "   return;\n",
    "printinfo('nas', 12)"
   ]
  },
  {
   "cell_type": "markdown",
   "id": "0bbd8a82",
   "metadata": {},
   "source": [
    "#### variabel length arguments"
   ]
  },
  {
   "cell_type": "code",
   "execution_count": 152,
   "id": "7b78dc52",
   "metadata": {},
   "outputs": [
    {
     "name": "stdout",
     "output_type": "stream",
     "text": [
      "output is :\n",
      "30\n",
      "n a s\n"
     ]
    }
   ],
   "source": [
    "def printinfo(x, *args):\n",
    "    print('output is :')\n",
    "    print(x)\n",
    "    print(*args[2])\n",
    "    \n",
    "printinfo(30, 1, 'nama', 'nas', 'sra', 'bre' )"
   ]
  },
  {
   "cell_type": "code",
   "execution_count": 157,
   "id": "cefef6b2",
   "metadata": {},
   "outputs": [
    {
     "name": "stdout",
     "output_type": "stream",
     "text": [
      "[3, 6, 9, 12, 15]\n"
     ]
    }
   ],
   "source": [
    "dataAngka = [1,2,3,4,5,6,7,8,9,10,11,12,13,14,15]\n",
    "\n",
    "dataAngkaBaru = list(filter(lambda x:(x % 3 == 0), dataAngka))\n",
    "print(dataAngkaBaru)"
   ]
  },
  {
   "cell_type": "markdown",
   "id": "ee1f3d5d",
   "metadata": {},
   "source": [
    "#### modules"
   ]
  },
  {
   "cell_type": "code",
   "execution_count": 159,
   "id": "216a2c6d",
   "metadata": {},
   "outputs": [],
   "source": [
    "import numpy as np"
   ]
  },
  {
   "cell_type": "code",
   "execution_count": 161,
   "id": "10fa0870",
   "metadata": {},
   "outputs": [
    {
     "data": {
      "text/plain": [
       "3.0"
      ]
     },
     "execution_count": 161,
     "metadata": {},
     "output_type": "execute_result"
    }
   ],
   "source": [
    "np.sqrt(9)"
   ]
  },
  {
   "cell_type": "code",
   "execution_count": null,
   "id": "059dc435",
   "metadata": {},
   "outputs": [],
   "source": [
    "np()"
   ]
  }
 ],
 "metadata": {
  "kernelspec": {
   "display_name": "Python 3 (ipykernel)",
   "language": "python",
   "name": "python3"
  },
  "language_info": {
   "codemirror_mode": {
    "name": "ipython",
    "version": 3
   },
   "file_extension": ".py",
   "mimetype": "text/x-python",
   "name": "python",
   "nbconvert_exporter": "python",
   "pygments_lexer": "ipython3",
   "version": "3.9.13"
  },
  "toc": {
   "base_numbering": 1,
   "nav_menu": {},
   "number_sections": true,
   "sideBar": true,
   "skip_h1_title": false,
   "title_cell": "Table of Contents",
   "title_sidebar": "Contents",
   "toc_cell": false,
   "toc_position": {},
   "toc_section_display": true,
   "toc_window_display": false
  },
  "varInspector": {
   "cols": {
    "lenName": 16,
    "lenType": 16,
    "lenVar": 40
   },
   "kernels_config": {
    "python": {
     "delete_cmd_postfix": "",
     "delete_cmd_prefix": "del ",
     "library": "var_list.py",
     "varRefreshCmd": "print(var_dic_list())"
    },
    "r": {
     "delete_cmd_postfix": ") ",
     "delete_cmd_prefix": "rm(",
     "library": "var_list.r",
     "varRefreshCmd": "cat(var_dic_list()) "
    }
   },
   "types_to_exclude": [
    "module",
    "function",
    "builtin_function_or_method",
    "instance",
    "_Feature"
   ],
   "window_display": false
  }
 },
 "nbformat": 4,
 "nbformat_minor": 5
}
