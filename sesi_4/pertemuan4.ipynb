{
 "cells": [
  {
   "cell_type": "code",
   "execution_count": 1,
   "id": "16b36c27-7449-4416-94b9-cac1c5d1c685",
   "metadata": {},
   "outputs": [],
   "source": [
    "import numpy as np"
   ]
  },
  {
   "cell_type": "code",
   "execution_count": 2,
   "id": "f04a0ebb-0083-4693-8850-d4c6dce98cef",
   "metadata": {},
   "outputs": [],
   "source": [
    "# PERCABANGAN\n",
    "def kalkulator():\n",
    "    try:\n",
    "        angka1 = float(input(\"Masukkan angka 1\\t: \"))\n",
    "        operator = input(\"Masukan operator\\t: \")\n",
    "        angka2 = float(input(\"Masukkan angka 2\\t: \"))\n",
    "\n",
    "        if operator ==  (\"x\"):\n",
    "            perkalian = angka1 * angka2\n",
    "            print(f\"Hasil perhitungan \\t: {perkalian}\")\n",
    "        elif operator == (\":\"):\n",
    "            pembagian = angka1 / angka2\n",
    "            print(f\"Hasil perhitungan \\t: {pembagian}\")\n",
    "        elif operator == (\"+\"):\n",
    "            penjumlahan = angka1 + angka2\n",
    "            print(f\"Hasil perhitungan \\t: {penjumlahan}\")\n",
    "        elif operator == (\"-\"):\n",
    "            pengurangan = angka1 - angka2\n",
    "            print(f\"Hasil perhitungan \\t: {pengurangan}\")\n",
    "        elif operator == (\"^\"):\n",
    "            pangkat = angka1 ** angka2\n",
    "            print(f\"Hasil perhitungan \\t: {pangkat}\")\n",
    "        else:\n",
    "            print(\"Operator operasi tidak tersedia\")\n",
    "\n",
    "        print(\"Anda berhasil melakukan perhitungan\")\n",
    "\n",
    "    except ValueError:\n",
    "        print(\"Input tidak valid. Pastikan Anda memasukkan angka.\")"
   ]
  },
  {
   "cell_type": "code",
   "execution_count": 3,
   "id": "176c54e5-4f7a-4ccd-b6d9-33991ad287c5",
   "metadata": {},
   "outputs": [],
   "source": [
    "def kalkulator():\n",
    "    try:\n",
    "        angka1 = float(input(\"Masukkan angka pertama: \"))\n",
    "        operasi = input(\"Masukkan operasi (+, -, x, :, ^): \")\n",
    "        angka2 = float(input(\"Masukkan angka kedua: \"))\n",
    "        \n",
    "        if operasi == '+':\n",
    "            hasil = angka1 + angka2\n",
    "        elif operasi == '-':\n",
    "            hasil = angka1 - angka2\n",
    "        elif operasi == 'x':\n",
    "            hasil = angka1 * angka2\n",
    "        elif operasi == ':':\n",
    "            hasil = angka1 / angka2\n",
    "        elif operasi == '^':\n",
    "            hasil = angka1 ** angka2\n",
    "        else:\n",
    "            print(\"Operasi tidak valid.\")\n",
    "            return\n",
    "        \n",
    "        print(f\"Hasil dari {angka1} {operasi} {angka2} = {hasil}\")\n",
    "        \n",
    "    except ValueError:\n",
    "        print(\"Input tidak valid. Pastikan Anda memasukkan angka.\")"
   ]
  },
  {
   "cell_type": "code",
   "execution_count": 4,
   "id": "a22b779f-4f17-46be-8a38-651d9b6a0b95",
   "metadata": {},
   "outputs": [
    {
     "name": "stdin",
     "output_type": "stream",
     "text": [
      "Masukkan angka pertama:  2\n",
      "Masukkan operasi (+, -, x, :, ^):  -\n",
      "Masukkan angka kedua:  1\n"
     ]
    },
    {
     "name": "stdout",
     "output_type": "stream",
     "text": [
      "Hasil dari 2.0 - 1.0 = 1.0\n"
     ]
    }
   ],
   "source": [
    "kalkulator()"
   ]
  },
  {
   "cell_type": "code",
   "execution_count": 5,
   "id": "a680afab-9f51-4231-9917-c1f0c48091f9",
   "metadata": {},
   "outputs": [
    {
     "data": {
      "text/plain": [
       "2"
      ]
     },
     "execution_count": 5,
     "metadata": {},
     "output_type": "execute_result"
    }
   ],
   "source": [
    "c = np.array([1,2,3])\n",
    "c[1]"
   ]
  },
  {
   "cell_type": "code",
   "execution_count": 6,
   "id": "160c5947-7129-4b24-a4af-48fc3489b4d9",
   "metadata": {},
   "outputs": [
    {
     "data": {
      "text/plain": [
       "array([[1, 2, 3],\n",
       "       [4, 5, 6]])"
      ]
     },
     "execution_count": 6,
     "metadata": {},
     "output_type": "execute_result"
    }
   ],
   "source": [
    "c = np.array([(1,2,3), (4,5,6)])\n",
    "c"
   ]
  },
  {
   "cell_type": "code",
   "execution_count": 7,
   "id": "a990d4f2-4802-4450-a702-bcc7adaa09e1",
   "metadata": {},
   "outputs": [
    {
     "data": {
      "text/plain": [
       "array([0, 1, 2, 3, 4])"
      ]
     },
     "execution_count": 7,
     "metadata": {},
     "output_type": "execute_result"
    }
   ],
   "source": [
    "array_1 = np.arange(5)\n",
    "array_1"
   ]
  },
  {
   "cell_type": "code",
   "execution_count": 8,
   "id": "9f92e926-fde6-499f-8f41-89503d7da930",
   "metadata": {},
   "outputs": [
    {
     "data": {
      "text/plain": [
       "array([2, 3, 4])"
      ]
     },
     "execution_count": 8,
     "metadata": {},
     "output_type": "execute_result"
    }
   ],
   "source": [
    "array_1[2::1]"
   ]
  },
  {
   "cell_type": "code",
   "execution_count": 9,
   "id": "5d832435-fb74-4c8d-908f-03280c094b4a",
   "metadata": {},
   "outputs": [
    {
     "data": {
      "text/plain": [
       "[[1, 2, 3], [4, 5, 6], [7, 8, 9]]"
      ]
     },
     "execution_count": 9,
     "metadata": {},
     "output_type": "execute_result"
    }
   ],
   "source": [
    "list_of_list = [[1,2,3], [4,5,6], [7,8,9]]\n",
    "list_of_list"
   ]
  },
  {
   "cell_type": "code",
   "execution_count": 10,
   "id": "a31a091e-ad89-43ce-b267-6d525bc442d1",
   "metadata": {},
   "outputs": [
    {
     "data": {
      "text/plain": [
       "array([[1, 2, 3],\n",
       "       [4, 5, 6],\n",
       "       [7, 8, 9]])"
      ]
     },
     "execution_count": 10,
     "metadata": {},
     "output_type": "execute_result"
    }
   ],
   "source": [
    "np.array(list_of_list)"
   ]
  },
  {
   "cell_type": "code",
   "execution_count": 11,
   "id": "d92e2c2f-d77a-42d2-b029-814eba416add",
   "metadata": {},
   "outputs": [
    {
     "data": {
      "text/plain": [
       "(3, 3)"
      ]
     },
     "execution_count": 11,
     "metadata": {},
     "output_type": "execute_result"
    }
   ],
   "source": [
    "list_of_list = np.array([[1,2,3], [4,5,6], [7,8,9]])\n",
    "list_of_list.shape"
   ]
  },
  {
   "cell_type": "code",
   "execution_count": 12,
   "id": "f16e552b-7a07-468d-aedb-a6636d75394a",
   "metadata": {},
   "outputs": [
    {
     "data": {
      "text/plain": [
       "(3, 2)"
      ]
     },
     "execution_count": 12,
     "metadata": {},
     "output_type": "execute_result"
    }
   ],
   "source": [
    "list_of_list2 = [[1, 2], [3, 4], [5,6]]\n",
    "array_3 = np.array(list_of_list2 )\n",
    "array_3.shape\n",
    "\n",
    "# (baris, kolom)"
   ]
  },
  {
   "cell_type": "code",
   "execution_count": 13,
   "id": "e1875742-8263-4e8b-b82e-be432ccbde95",
   "metadata": {},
   "outputs": [
    {
     "name": "stdout",
     "output_type": "stream",
     "text": [
      "2\n"
     ]
    }
   ],
   "source": [
    "# ndim\n",
    "\n",
    "list_of_list = np.array([[1,2,3], [4,5,6], [7,8,9]])\n",
    "\n",
    "\n",
    "print(list_of_list.ndim)"
   ]
  },
  {
   "cell_type": "markdown",
   "id": "41986b10-1ad8-49cc-8e1d-3e813e57a949",
   "metadata": {},
   "source": [
    "## Creating Array"
   ]
  },
  {
   "cell_type": "code",
   "execution_count": 14,
   "id": "955e36af-4564-4ded-9491-c2b80f28c66f",
   "metadata": {},
   "outputs": [
    {
     "name": "stdout",
     "output_type": "stream",
     "text": [
      "2\n"
     ]
    }
   ],
   "source": [
    "a = np.zeros([3,4])\n",
    "print(a.ndim)"
   ]
  },
  {
   "cell_type": "code",
   "execution_count": 26,
   "id": "5fe6801e-b083-4e2e-8096-61bce4103460",
   "metadata": {},
   "outputs": [
    {
     "name": "stdout",
     "output_type": "stream",
     "text": [
      "[[1 2 3]\n",
      " [4 5 6]\n",
      " [7 8 9]]\n"
     ]
    }
   ],
   "source": [
    "c = np.array([1,2,3,4,5,6,7,8,9])\n",
    "\n",
    "print(c.reshape(3,3))"
   ]
  },
  {
   "cell_type": "code",
   "execution_count": 30,
   "id": "5964a294-c163-45c4-b956-3b1cc1bcbd1d",
   "metadata": {},
   "outputs": [
    {
     "data": {
      "text/plain": [
       "(3,)"
      ]
     },
     "execution_count": 30,
     "metadata": {},
     "output_type": "execute_result"
    }
   ],
   "source": [
    "array_4 = np.array([4,5,6])\n",
    "array_4 = \n",
    "array_4.shape"
   ]
  },
  {
   "cell_type": "code",
   "execution_count": 36,
   "id": "e9b55ac9-92df-417c-ae60-926503d5d6c7",
   "metadata": {},
   "outputs": [
    {
     "name": "stdout",
     "output_type": "stream",
     "text": [
      "[[3]\n",
      " [4]\n",
      " [5]\n",
      " [6]\n",
      " [7]\n",
      " [8]\n",
      " [9]]\n",
      "(7, 1)\n"
     ]
    }
   ],
   "source": [
    "# np.expand_dims\n",
    "\n",
    "array_7 = np.array([3,4,5,6,7,8,9])\n",
    "array_8 = np.expand_dims(array_7, axis=1)\n",
    "print(array_8)\n",
    "print(array_8.shape)"
   ]
  },
  {
   "cell_type": "code",
   "execution_count": 37,
   "id": "9435236d-526c-49ca-8506-3b7b63bb2276",
   "metadata": {},
   "outputs": [
    {
     "name": "stdout",
     "output_type": "stream",
     "text": [
      "[[3 4 5 6 7 8 9]]\n",
      "(1, 7)\n"
     ]
    }
   ],
   "source": [
    "array_9 = np.expand_dims(array_7, axis=0)\n",
    "print(array_9)\n",
    "print(array_9.shape)"
   ]
  },
  {
   "cell_type": "code",
   "execution_count": 40,
   "id": "797edf0f-97ac-4cb8-81ec-43348b28b3e0",
   "metadata": {},
   "outputs": [
    {
     "name": "stdout",
     "output_type": "stream",
     "text": [
      "[3 4 5 6 7 8]\n"
     ]
    }
   ],
   "source": [
    "array_7 = np.array([3,4,5,6,7,8,9])\n",
    "print(array_7[array_7<=8])"
   ]
  },
  {
   "cell_type": "code",
   "execution_count": 43,
   "id": "cc327806-a84c-43e6-9f37-d9aada092bef",
   "metadata": {},
   "outputs": [
    {
     "name": "stdout",
     "output_type": "stream",
     "text": [
      "[ 3 -1 -2 -3]\n"
     ]
    }
   ],
   "source": [
    "array_11 = np.array([[3,5,7], [8,9,10], [-1,-2,-3]])\n",
    "array_11.shape\n",
    "print(array_11[array_11<5])"
   ]
  },
  {
   "cell_type": "markdown",
   "id": "a9e4504a-1caf-4ef6-8840-c2832a32882b",
   "metadata": {},
   "source": [
    "### np.zeros()"
   ]
  },
  {
   "cell_type": "code",
   "execution_count": 15,
   "id": "bb0d239a-3f97-489a-8895-e56097f679ab",
   "metadata": {},
   "outputs": [
    {
     "data": {
      "text/plain": [
       "array([0., 0., 0., 0.])"
      ]
     },
     "execution_count": 15,
     "metadata": {},
     "output_type": "execute_result"
    }
   ],
   "source": [
    "np.zeros(4) #1D"
   ]
  },
  {
   "cell_type": "code",
   "execution_count": 25,
   "id": "0192e65c-7e50-42d3-af12-5f16cda31867",
   "metadata": {},
   "outputs": [
    {
     "name": "stdout",
     "output_type": "stream",
     "text": [
      "[[0. 0. 0.]\n",
      " [0. 0. 0.]\n",
      " [0. 0. 0.]]\n"
     ]
    }
   ],
   "source": [
    "print(np.zeros([3,3])) #2D"
   ]
  },
  {
   "cell_type": "markdown",
   "id": "d8d18e30-85d6-429c-8926-d8013fbc658e",
   "metadata": {},
   "source": [
    "### np.ones()"
   ]
  },
  {
   "cell_type": "code",
   "execution_count": 17,
   "id": "244e09de-9831-49d0-b197-81d5971e70f8",
   "metadata": {},
   "outputs": [
    {
     "data": {
      "text/plain": [
       "array([1., 1., 1., 1.])"
      ]
     },
     "execution_count": 17,
     "metadata": {},
     "output_type": "execute_result"
    }
   ],
   "source": [
    "np.ones(4) #1D"
   ]
  },
  {
   "cell_type": "code",
   "execution_count": 18,
   "id": "08b70a4f-5903-4ea9-b530-65329a988f86",
   "metadata": {},
   "outputs": [
    {
     "data": {
      "text/plain": [
       "array([[1., 1., 1.],\n",
       "       [1., 1., 1.],\n",
       "       [1., 1., 1.]])"
      ]
     },
     "execution_count": 18,
     "metadata": {},
     "output_type": "execute_result"
    }
   ],
   "source": [
    "np.ones([3,3])"
   ]
  },
  {
   "cell_type": "markdown",
   "id": "51fddfb2-3319-4e4b-87af-3b966f6461f1",
   "metadata": {},
   "source": [
    "### np.empty()"
   ]
  },
  {
   "cell_type": "code",
   "execution_count": 19,
   "id": "88203dbe-8721-4ac1-9ca0-7cc07935ff47",
   "metadata": {},
   "outputs": [
    {
     "data": {
      "text/plain": [
       "array([[1., 1., 1.],\n",
       "       [1., 1., 1.],\n",
       "       [1., 1., 1.]])"
      ]
     },
     "execution_count": 19,
     "metadata": {},
     "output_type": "execute_result"
    }
   ],
   "source": [
    "np.empty([3,3]) #1D"
   ]
  },
  {
   "cell_type": "code",
   "execution_count": 20,
   "id": "15056b8a-3609-42d1-bc7d-666aa05e93dc",
   "metadata": {},
   "outputs": [
    {
     "data": {
      "text/plain": [
       "array([0, 1, 2, 3])"
      ]
     },
     "execution_count": 20,
     "metadata": {},
     "output_type": "execute_result"
    }
   ],
   "source": [
    "np.arange(4)"
   ]
  },
  {
   "cell_type": "code",
   "execution_count": 21,
   "id": "c8d18183-5c44-4689-a5b0-5074feb53b2c",
   "metadata": {},
   "outputs": [
    {
     "data": {
      "text/plain": [
       "array([0, 2, 4, 6, 8])"
      ]
     },
     "execution_count": 21,
     "metadata": {},
     "output_type": "execute_result"
    }
   ],
   "source": [
    "np.arange(0,10,2)"
   ]
  },
  {
   "cell_type": "code",
   "execution_count": 22,
   "id": "afab6470-7d63-477b-88ed-3b2320060836",
   "metadata": {},
   "outputs": [
    {
     "data": {
      "text/plain": [
       "array([ 1,  2,  3, 10, 11])"
      ]
     },
     "execution_count": 22,
     "metadata": {},
     "output_type": "execute_result"
    }
   ],
   "source": [
    "array1 = np.array([1,2,3])\n",
    "np.append(array1, [10,11])"
   ]
  },
  {
   "cell_type": "code",
   "execution_count": 23,
   "id": "3036021c-52fc-45d4-b551-a1aca081ef1f",
   "metadata": {},
   "outputs": [
    {
     "data": {
      "text/plain": [
       "array([1, 2, 4, 5])"
      ]
     },
     "execution_count": 23,
     "metadata": {},
     "output_type": "execute_result"
    }
   ],
   "source": [
    "array1 = np.array([1, 2, 3, 4, 5])\n",
    "np.delete(array1, 2)"
   ]
  },
  {
   "cell_type": "code",
   "execution_count": 24,
   "id": "cd5b2255-f6f9-4cde-9f26-832355900a4c",
   "metadata": {},
   "outputs": [
    {
     "name": "stdout",
     "output_type": "stream",
     "text": [
      "[ 1  2  4  5  6  7  9 11]\n"
     ]
    }
   ],
   "source": [
    "print(np.sort([9,1,4,5,6,2,11,7]))"
   ]
  },
  {
   "cell_type": "code",
   "execution_count": 44,
   "id": "45928b84-95df-43a6-a8ae-cca87a32480e",
   "metadata": {},
   "outputs": [
    {
     "name": "stdin",
     "output_type": "stream",
     "text": [
      "Enter number of rows:  4\n"
     ]
    },
    {
     "name": "stdout",
     "output_type": "stream",
     "text": [
      "Generated Hourglass Pattern is: \n"
     ]
    },
    {
     "ename": "TypeError",
     "evalue": "'float' object cannot be interpreted as an integer",
     "output_type": "error",
     "traceback": [
      "\u001b[1;31m---------------------------------------------------------------------------\u001b[0m",
      "\u001b[1;31mTypeError\u001b[0m                                 Traceback (most recent call last)",
      "\u001b[1;32m~\\AppData\\Local\\Temp\\ipykernel_23104\\1782903707.py\u001b[0m in \u001b[0;36m<module>\u001b[1;34m\u001b[0m\n\u001b[0;32m      3\u001b[0m \u001b[0mprint\u001b[0m\u001b[1;33m(\u001b[0m\u001b[1;34m\"Generated Hourglass Pattern is: \"\u001b[0m\u001b[1;33m)\u001b[0m\u001b[1;33m\u001b[0m\u001b[1;33m\u001b[0m\u001b[0m\n\u001b[0;32m      4\u001b[0m \u001b[1;31m# Upper-half\u001b[0m\u001b[1;33m\u001b[0m\u001b[1;33m\u001b[0m\u001b[0m\n\u001b[1;32m----> 5\u001b[1;33m \u001b[1;32mfor\u001b[0m \u001b[0mi\u001b[0m \u001b[1;32min\u001b[0m \u001b[0mrange\u001b[0m\u001b[1;33m(\u001b[0m\u001b[0mrow\u001b[0m\u001b[1;33m/\u001b[0m\u001b[1;36m2\u001b[0m\u001b[1;33m,\u001b[0m \u001b[1;36m0\u001b[0m\u001b[1;33m,\u001b[0m \u001b[1;33m-\u001b[0m\u001b[1;36m1\u001b[0m\u001b[1;33m)\u001b[0m\u001b[1;33m:\u001b[0m\u001b[1;33m\u001b[0m\u001b[1;33m\u001b[0m\u001b[0m\n\u001b[0m\u001b[0;32m      6\u001b[0m     \u001b[1;32mfor\u001b[0m \u001b[0mj\u001b[0m \u001b[1;32min\u001b[0m \u001b[0mrange\u001b[0m\u001b[1;33m(\u001b[0m\u001b[0mrow\u001b[0m\u001b[1;33m-\u001b[0m\u001b[0mi\u001b[0m\u001b[1;33m)\u001b[0m\u001b[1;33m:\u001b[0m\u001b[1;33m\u001b[0m\u001b[1;33m\u001b[0m\u001b[0m\n\u001b[0;32m      7\u001b[0m         \u001b[0mprint\u001b[0m\u001b[1;33m(\u001b[0m\u001b[1;34m\" \"\u001b[0m\u001b[1;33m,\u001b[0m \u001b[0mend\u001b[0m\u001b[1;33m=\u001b[0m\u001b[1;34m\"\"\u001b[0m\u001b[1;33m)\u001b[0m\u001b[1;33m\u001b[0m\u001b[1;33m\u001b[0m\u001b[0m\n",
      "\u001b[1;31mTypeError\u001b[0m: 'float' object cannot be interpreted as an integer"
     ]
    }
   ],
   "source": [
    "row = int(input(\"Enter number of rows: \"))\n",
    "\n",
    "print(\"Generated Hourglass Pattern is: \")\n",
    "for i in range(row, 0, -1):\n",
    "    for j in range(row-i):\n",
    "        print(\" \", end=\"\")\n",
    "    for j in range(1, 2*i):\n",
    "        print(\"*\", end=\"\")\n",
    "    print()\n",
    "\n",
    "# Lower-half\n",
    "for i in range(2, row+1):\n",
    "    for j in range(row-i):\n",
    "        print(\" \", end=\"\")\n",
    "    for j in range(1, 2*i):\n",
    "        print(\"*\", end=\"\")\n",
    "    print()\n"
   ]
  },
  {
   "cell_type": "code",
   "execution_count": 62,
   "id": "9ea0507d-37c9-4b88-8a24-10b3f6fc6721",
   "metadata": {},
   "outputs": [
    {
     "ename": "SyntaxError",
     "evalue": "invalid syntax (169566059.py, line 3)",
     "output_type": "error",
     "traceback": [
      "\u001b[1;36m  File \u001b[1;32m\"C:\\Users\\lenovo\\AppData\\Local\\Temp\\ipykernel_23104\\169566059.py\"\u001b[1;36m, line \u001b[1;32m3\u001b[0m\n\u001b[1;33m    if rows\u001b[0m\n\u001b[1;37m            ^\u001b[0m\n\u001b[1;31mSyntaxError\u001b[0m\u001b[1;31m:\u001b[0m invalid syntax\n"
     ]
    }
   ],
   "source": [
    "import math\n",
    "rows = int(input(\"Enter number of rows: \"))\n",
    "\n",
    "if rows % 2 == 1:\n",
    "    rows2 = rows / 2 \n",
    "    math.floor(rows2)\n",
    "k = 0\n",
    "\n",
    "for i in range(rows2+1, 1, -1):\n",
    "    for space in range(0, rows-i):\n",
    "        print(\"  \", end=\"\")\n",
    "    for j in range(i, 2*i-1):\n",
    "        print(\"* \", end=\"\")\n",
    "    for j in range(1, i-1):\n",
    "        print(\"* \", end=\"\")\n",
    "    print()\n",
    "\n",
    "for i in range(1, rows2+1):\n",
    "    for space in range(1, (rows-i)+1):\n",
    "        print(end=\"  \")\n",
    "   \n",
    "    while k!=(2*i-1):\n",
    "        print(\"* \", end=\"\")\n",
    "        k += 1\n",
    "    k = 0\n",
    "    print()\n"
   ]
  },
  {
   "cell_type": "code",
   "execution_count": 65,
   "id": "eb81f158-424b-4642-be71-78678ca33ba2",
   "metadata": {},
   "outputs": [
    {
     "name": "stdin",
     "output_type": "stream",
     "text": [
      "Masukkan tinggi bagian atas dan bawah (bilangan ganjil):  10\n"
     ]
    },
    {
     "name": "stdout",
     "output_type": "stream",
     "text": [
      "* * * * *\n",
      " * * * *\n",
      "  * * *\n",
      "   * *\n",
      "    *\n",
      "   * *\n",
      "  * * *\n",
      " * * * *\n",
      "* * * * *\n"
     ]
    }
   ],
   "source": [
    "\n",
    "n = int(input(\"Masukkan tinggi bagian atas dan bawah (bilangan ganjil): \"))\n",
    "if n % 2 == 0:\n",
    "    n -= 1\n",
    "for i in range(n//2+1):\n",
    "    for j in range(i):\n",
    "        print(\" \", end=\"\")\n",
    "    for k in range(n-2*i):\n",
    "        if k % 2 == 0:\n",
    "            print(\"*\", end=\"\")\n",
    "        else:\n",
    "            print(\" \", end=\"\")\n",
    "    print()\n",
    "for i in range(n//2, 0, -1):\n",
    "    for j in range(i-1):\n",
    "        print(\" \", end=\"\")\n",
    "    for k in range(n-2*i+2):\n",
    "        if k % 2 == 0:\n",
    "            print(\"*\", end=\"\")\n",
    "        else:\n",
    "            print(\" \", end=\"\")\n",
    "    print()"
   ]
  },
  {
   "cell_type": "code",
   "execution_count": 68,
   "id": "c35dfa35-7130-4457-9252-126bbdbd054d",
   "metadata": {},
   "outputs": [
    {
     "name": "stdout",
     "output_type": "stream",
     "text": [
      "[[1 2 3]\n",
      " [4 5 6]]\n",
      "[1 2 3 4 5 6]\n"
     ]
    }
   ],
   "source": [
    "a = np.array([1,2,3])\n",
    "b = np.array([4,5,6])\n",
    "# vertikal\n",
    "print(np.vstack([a, b]))\n",
    "# horizontal\n",
    "print(np.hstack([a, b]))"
   ]
  },
  {
   "cell_type": "code",
   "execution_count": 70,
   "id": "60d0f4ce-16ae-4790-822d-6a7759aa3e59",
   "metadata": {},
   "outputs": [
    {
     "data": {
      "text/plain": [
       "[array([1, 2, 3]), array([4, 5, 6])]"
      ]
     },
     "execution_count": 70,
     "metadata": {},
     "output_type": "execute_result"
    }
   ],
   "source": [
    "# hsplit\n",
    "a = np.array([1,2,3,4,5,6])\n",
    "array_split = np.hsplit(a, 2)\n",
    "array_split"
   ]
  },
  {
   "cell_type": "code",
   "execution_count": 84,
   "id": "cf293849-7341-4c67-afa7-ea26faba275f",
   "metadata": {},
   "outputs": [
    {
     "name": "stdout",
     "output_type": "stream",
     "text": [
      "\n",
      "transpose matrix dari a:\n",
      "[[1 2 3]\n",
      " [4 5 6]]\n",
      "shape a :  (2, 3) \n",
      "\n",
      "[[1 4]\n",
      " [2 5]\n",
      " [3 6]]\n",
      "\n",
      " [[1 4]\n",
      " [2 5]\n",
      " [3 6]]\n",
      "\n",
      " [[1 4]\n",
      " [2 5]\n",
      " [3 6]]\n",
      "\n",
      " shape a transpose:  (3, 2)\n"
     ]
    }
   ],
   "source": [
    "# merubah baris jadi kolom\n",
    "\n",
    "print('\\ntranspose matrix dari a:')\n",
    "a = np.array([[1,2,3], [4,5,6]])\n",
    "print(a)\n",
    "print('shape a : ', a.shape, '\\n')\n",
    "\n",
    "\n",
    "print(a.transpose())\n",
    "# atau\n",
    "print('\\n',np.transpose(a))\n",
    "# atau\n",
    "print('\\n',a.T)\n",
    "\n",
    "print('\\nshape a transpose: ',a.T.shape)\n",
    "\n"
   ]
  },
  {
   "cell_type": "code",
   "execution_count": 85,
   "id": "8ddde4bb-64ff-4ca9-b0eb-a47394977e0d",
   "metadata": {},
   "outputs": [
    {
     "name": "stdout",
     "output_type": "stream",
     "text": [
      "\n",
      "flatten matrix a : \n",
      "\n",
      " [1 2 3 4 5 6]\n",
      "\n",
      " [1 2 3 4 5 6]\n"
     ]
    }
   ],
   "source": [
    "# flatten array -> menjadi vector baris\n",
    "print('\\nflatten matrix a : ')\n",
    "print('\\n',a.ravel()) \n",
    "# atau\n",
    "print('\\n',np.ravel(a))"
   ]
  },
  {
   "cell_type": "code",
   "execution_count": 91,
   "id": "f3b8116a-0bac-4883-8b10-f35eb40587ed",
   "metadata": {},
   "outputs": [
    {
     "name": "stdout",
     "output_type": "stream",
     "text": [
      "\n",
      "resize matrix a:\n",
      "[[1 2]\n",
      " [3 4]\n",
      " [5 6]]\n"
     ]
    }
   ],
   "source": [
    "print('\\nresize matrix a:')\n",
    "a = np.array([[1,2,3], [4,5,6]])\n",
    "print(a.reshape(3,2))"
   ]
  },
  {
   "cell_type": "code",
   "execution_count": 92,
   "id": "b01e01e0-4b79-42cd-8f40-6532974d95c4",
   "metadata": {},
   "outputs": [
    {
     "data": {
      "text/plain": [
       "21"
      ]
     },
     "execution_count": 92,
     "metadata": {},
     "output_type": "execute_result"
    }
   ],
   "source": [
    "a = np.array([[1,2,3], [4,5,6]])\n",
    "np.sum(a)"
   ]
  },
  {
   "cell_type": "code",
   "execution_count": 94,
   "id": "1a162249-cbf2-48e1-8281-3aeccec35189",
   "metadata": {},
   "outputs": [
    {
     "data": {
      "text/plain": [
       "array([[ 1,  4,  9],\n",
       "       [16, 25, 36]], dtype=int32)"
      ]
     },
     "execution_count": 94,
     "metadata": {},
     "output_type": "execute_result"
    }
   ],
   "source": [
    "a = np.array([[1,2,3], [4,5,6]])\n",
    "np.square(a)"
   ]
  },
  {
   "cell_type": "code",
   "execution_count": 95,
   "id": "ff15054d-4207-44f7-8461-c0c2bde54bfd",
   "metadata": {},
   "outputs": [
    {
     "data": {
      "text/plain": [
       "array([[1., 2., 3.],\n",
       "       [4., 5., 6.]])"
      ]
     },
     "execution_count": 95,
     "metadata": {},
     "output_type": "execute_result"
    }
   ],
   "source": [
    "b = np.array([[ 1,  4,  9], [16, 25, 36]])\n",
    "\n",
    "np.sqrt(b)"
   ]
  },
  {
   "cell_type": "code",
   "execution_count": 103,
   "id": "14e3ece5-e754-4d96-bd54-50a670bc7c4c",
   "metadata": {},
   "outputs": [
    {
     "name": "stdin",
     "output_type": "stream",
     "text": [
      "Masukka batas bawah : 11\n",
      "Masukka batas atas : 30\n"
     ]
    },
    {
     "name": "stdout",
     "output_type": "stream",
     "text": [
      "11\n",
      "13\n",
      "17\n",
      "19\n",
      "23\n",
      "29\n"
     ]
    }
   ],
   "source": [
    "\n",
    "batas_bawah = int(input('Masukka batas bawah :'))\n",
    "batas_atas = int(input('Masukka batas atas :'))\n",
    "\n",
    "for angka in range(batas_bawah, batas_atas + 1):\n",
    "   if angka > 1:\n",
    "       for i in range(2, angka):\n",
    "           if (angka % i) == 0:\n",
    "               break\n",
    "       else:\n",
    "           print(angka)"
   ]
  },
  {
   "cell_type": "code",
   "execution_count": 104,
   "id": "49a024f6-a208-4df0-82ef-8663270fba09",
   "metadata": {},
   "outputs": [
    {
     "name": "stdin",
     "output_type": "stream",
     "text": [
      "Masukkan nilai awal :  10\n",
      "Masukkan nilai akhir :  30\n"
     ]
    },
    {
     "name": "stdout",
     "output_type": "stream",
     "text": [
      "[11, 13, 17, 19, 23, 29]\n"
     ]
    }
   ],
   "source": [
    "def bil_prima(awal, akhir):\n",
    "    prima = []\n",
    "    for i in range(awal, akhir + 1):\n",
    "        if i > 1:\n",
    "            for j in range(2, i):\n",
    "                if (i % j) == 0:\n",
    "                    break\n",
    "            else:\n",
    "                prima.append(i)\n",
    "    return prima\n",
    "awal = int(input(\"Masukkan nilai awal : \"))\n",
    "akhir = int(input(\"Masukkan nilai akhir : \"))\n",
    "print(bil_prima(awal,akhir))"
   ]
  },
  {
   "cell_type": "code",
   "execution_count": null,
   "id": "1249c1fb-5ffd-442b-bafb-adc57a5177bc",
   "metadata": {},
   "outputs": [],
   "source": []
  }
 ],
 "metadata": {
  "kernelspec": {
   "display_name": "Python 3 (ipykernel)",
   "language": "python",
   "name": "python3"
  },
  "language_info": {
   "codemirror_mode": {
    "name": "ipython",
    "version": 3
   },
   "file_extension": ".py",
   "mimetype": "text/x-python",
   "name": "python",
   "nbconvert_exporter": "python",
   "pygments_lexer": "ipython3",
   "version": "3.9.13"
  }
 },
 "nbformat": 4,
 "nbformat_minor": 5
}
